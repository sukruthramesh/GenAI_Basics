{
 "cells": [
  {
   "cell_type": "code",
   "execution_count": null,
   "metadata": {},
   "outputs": [],
   "source": [
    "from model import WGAN_WC\n",
    "import keras\n",
    "import numpy as np\n",
    "import matplotlib.pyplot as plt"
   ]
  },
  {
   "cell_type": "code",
   "execution_count": null,
   "metadata": {},
   "outputs": [],
   "source": [
    "X = np.load(\"full_numpy_bitmap_camel.npy\")\n",
    "X = np.reshape(X , (len(X),28,28))\n",
    "X = 2*X/255-1\n",
    "idx = np.random.randint(0,len(X))\n",
    "plt.imshow(X[idx])"
   ]
  },
  {
   "cell_type": "code",
   "execution_count": null,
   "metadata": {},
   "outputs": [],
   "source": [
    "gan = WGAN_WC(\n",
    "    input_dim=(28,28,1),\n",
    "    d_filters=[64,64,128,128],\n",
    "    d_kernel=[5,5,5,5],\n",
    "    d_strides=[2,2,2,1],\n",
    "    d_batch_norm_momentum=None,\n",
    "    d_activation='relu',\n",
    "    d_dropout_rate=0.4,\n",
    "    d_lr=0.0008,\n",
    "    g_init_dense=(7,7,64),\n",
    "    g_upsample=[2,2,1,1],\n",
    "    g_filters=[128,64,64,1],\n",
    "    g_kernel=[5,5,5,5],\n",
    "    g_stride=[2,2,1,1],\n",
    "    g_batch_norm_momentum=0.9,\n",
    "    g_activation='relu',\n",
    "    g_dropout_rate=None,\n",
    "    g_lr=0.0004,\n",
    "    optimizer='rmsprop',\n",
    "    z_dim=100\n",
    ")\n",
    "\n",
    "gan.discriminator.summary()"
   ]
  },
  {
   "cell_type": "code",
   "execution_count": null,
   "metadata": {},
   "outputs": [],
   "source": [
    "gan.train(X)"
   ]
  },
  {
   "cell_type": "code",
   "execution_count": 8,
   "metadata": {},
   "outputs": [],
   "source": [
    "noise = np.random.normal(0,1,(10,100))"
   ]
  },
  {
   "cell_type": "code",
   "execution_count": 9,
   "metadata": {},
   "outputs": [
    {
     "name": "stdout",
     "output_type": "stream",
     "text": [
      "1/1 [==============================] - 0s 33ms/step\n"
     ]
    }
   ],
   "source": [
    "fakes = gan.generator.predict(noise)"
   ]
  },
  {
   "cell_type": "code",
   "execution_count": 10,
   "metadata": {},
   "outputs": [
    {
     "data": {
      "text/plain": [
       "<matplotlib.image.AxesImage at 0x230d4127c40>"
      ]
     },
     "execution_count": 10,
     "metadata": {},
     "output_type": "execute_result"
    },
    {
     "data": {
      "image/png": "[encoded data removed]",
      "text/plain": [
       "<Figure size 640x480 with 1 Axes>"
      ]
     },
     "metadata": {},
     "output_type": "display_data"
    }
   ],
   "source": [
    "plt.imshow(fakes[5])"
   ]
  },
  {
   "cell_type": "code",
   "execution_count": null,
   "metadata": {},
   "outputs": [],
   "source": []
  }
 ],
 "metadata": {
  "kernelspec": {
   "display_name": "Python 3",
   "language": "python",
   "name": "python3"
  },
  "language_info": {
   "codemirror_mode": {
    "name": "ipython",
    "version": 3
   },
   "file_extension": ".py",
   "mimetype": "text/x-python",
   "name": "python",
   "nbconvert_exporter": "python",
   "pygments_lexer": "ipython3",
   "version": "3.10.8"
  }
 },
 "nbformat": 4,
 "nbformat_minor": 2
}
